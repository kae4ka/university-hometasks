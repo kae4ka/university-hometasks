{
  "nbformat": 4,
  "nbformat_minor": 0,
  "metadata": {
    "colab": {
      "provenance": [],
      "mount_file_id": "1PV8937xxTwnhsMWuDpwlv49pjG72adfc",
      "authorship_tag": "ABX9TyM1rkoHfelxtJ/+/6lxFykE"
    },
    "kernelspec": {
      "name": "python3",
      "display_name": "Python 3"
    },
    "language_info": {
      "name": "python"
    }
  },
  "cells": [
    {
      "cell_type": "code",
      "source": [
        "!pip install -q kaggle"
      ],
      "metadata": {
        "id": "319q9cKMSCjp"
      },
      "execution_count": null,
      "outputs": []
    },
    {
      "cell_type": "code",
      "source": [
        "!pip install pyspark"
      ],
      "metadata": {
        "colab": {
          "base_uri": "https://localhost:8080/"
        },
        "id": "7S8-Q5JsmZwN",
        "outputId": "05df3c01-edb8-459b-f5d8-065e4102ca45"
      },
      "execution_count": null,
      "outputs": [
        {
          "output_type": "stream",
          "name": "stdout",
          "text": [
            "Looking in indexes: https://pypi.org/simple, https://us-python.pkg.dev/colab-wheels/public/simple/\n",
            "Requirement already satisfied: pyspark in /usr/local/lib/python3.10/dist-packages (3.4.0)\n",
            "Requirement already satisfied: py4j==0.10.9.7 in /usr/local/lib/python3.10/dist-packages (from pyspark) (0.10.9.7)\n"
          ]
        }
      ]
    },
    {
      "cell_type": "code",
      "source": [
        "from pyspark.sql import SparkSession\n",
        "import pandas as pd\n",
        "import numpy as np"
      ],
      "metadata": {
        "id": "8Tdt15y-mdTt"
      },
      "execution_count": null,
      "outputs": []
    },
    {
      "cell_type": "code",
      "source": [
        "spark = SparkSession.builder.getOrCreate()"
      ],
      "metadata": {
        "id": "CyZSSerUmfT4"
      },
      "execution_count": null,
      "outputs": []
    },
    {
      "cell_type": "code",
      "source": [
        "!mkdir -p ~/.kaggle\n",
        "!cp \"/content/drive/MyDrive/Colab Notebooks/kaggle.json\" ~/.kaggle/"
      ],
      "metadata": {
        "id": "TSbIg7zSlQKE"
      },
      "execution_count": null,
      "outputs": []
    },
    {
      "cell_type": "code",
      "execution_count": null,
      "metadata": {
        "id": "n9zz3viJSAkF",
        "outputId": "deecff36-cf17-448d-88e4-11c64dd71d3b",
        "colab": {
          "base_uri": "https://localhost:8080/"
        }
      },
      "outputs": [
        {
          "output_type": "stream",
          "name": "stdout",
          "text": [
            "Downloading wine-dataset-for-clustering.zip to /content\n",
            "\r  0% 0.00/4.36k [00:00<?, ?B/s]\n",
            "\r100% 4.36k/4.36k [00:00<00:00, 9.38MB/s]\n"
          ]
        }
      ],
      "source": [
        "!kaggle datasets download -d harrywang/wine-dataset-for-clustering"
      ]
    },
    {
      "cell_type": "code",
      "source": [
        "!unzip wine-dataset-for-clustering.zip"
      ],
      "metadata": {
        "colab": {
          "base_uri": "https://localhost:8080/"
        },
        "id": "Oqi75WU4mJOA",
        "outputId": "daeef8c1-66d3-461d-acee-c8cbd6780a29"
      },
      "execution_count": null,
      "outputs": [
        {
          "output_type": "stream",
          "name": "stdout",
          "text": [
            "Archive:  wine-dataset-for-clustering.zip\n",
            "  inflating: wine-clustering.csv     \n"
          ]
        }
      ]
    },
    {
      "cell_type": "code",
      "source": [
        "df = spark.createDataFrame(pd.read_csv('/content/wine-clustering.csv'))"
      ],
      "metadata": {
        "id": "mTmIHzNZmPVu"
      },
      "execution_count": null,
      "outputs": []
    },
    {
      "cell_type": "code",
      "source": [
        "df.show(5)"
      ],
      "metadata": {
        "colab": {
          "base_uri": "https://localhost:8080/"
        },
        "id": "stHpvaacrvvH",
        "outputId": "3b1adc12-6753-4997-946f-4e27a5686089"
      },
      "execution_count": null,
      "outputs": [
        {
          "output_type": "stream",
          "name": "stdout",
          "text": [
            "+-------+----------+----+------------+---------+-------------+----------+--------------------+---------------+---------------+----+-----+-------+\n",
            "|Alcohol|Malic_Acid| Ash|Ash_Alcanity|Magnesium|Total_Phenols|Flavanoids|Nonflavanoid_Phenols|Proanthocyanins|Color_Intensity| Hue|OD280|Proline|\n",
            "+-------+----------+----+------------+---------+-------------+----------+--------------------+---------------+---------------+----+-----+-------+\n",
            "|  14.23|      1.71|2.43|        15.6|      127|          2.8|      3.06|                0.28|           2.29|           5.64|1.04| 3.92|   1065|\n",
            "|   13.2|      1.78|2.14|        11.2|      100|         2.65|      2.76|                0.26|           1.28|           4.38|1.05|  3.4|   1050|\n",
            "|  13.16|      2.36|2.67|        18.6|      101|          2.8|      3.24|                 0.3|           2.81|           5.68|1.03| 3.17|   1185|\n",
            "|  14.37|      1.95| 2.5|        16.8|      113|         3.85|      3.49|                0.24|           2.18|            7.8|0.86| 3.45|   1480|\n",
            "|  13.24|      2.59|2.87|        21.0|      118|          2.8|      2.69|                0.39|           1.82|           4.32|1.04| 2.93|    735|\n",
            "+-------+----------+----+------------+---------+-------------+----------+--------------------+---------------+---------------+----+-----+-------+\n",
            "only showing top 5 rows\n",
            "\n"
          ]
        }
      ]
    },
    {
      "cell_type": "code",
      "source": [
        "df.describe()"
      ],
      "metadata": {
        "colab": {
          "base_uri": "https://localhost:8080/"
        },
        "id": "LphQt_C-rxob",
        "outputId": "76004c44-1c3a-464f-bbfc-8ed2c97a2523"
      },
      "execution_count": null,
      "outputs": [
        {
          "output_type": "execute_result",
          "data": {
            "text/plain": [
              "DataFrame[summary: string, Alcohol: string, Malic_Acid: string, Ash: string, Ash_Alcanity: string, Magnesium: string, Total_Phenols: string, Flavanoids: string, Nonflavanoid_Phenols: string, Proanthocyanins: string, Color_Intensity: string, Hue: string, OD280: string, Proline: string]"
            ]
          },
          "metadata": {},
          "execution_count": 18
        }
      ]
    },
    {
      "cell_type": "code",
      "source": [
        "df.summary().show()"
      ],
      "metadata": {
        "colab": {
          "base_uri": "https://localhost:8080/"
        },
        "id": "g7x6yo76sCJX",
        "outputId": "52c440b1-a1a0-46dd-a72f-b4fa03a5139f"
      },
      "execution_count": null,
      "outputs": [
        {
          "output_type": "stream",
          "name": "stdout",
          "text": [
            "+-------+------------------+------------------+------------------+------------------+-----------------+------------------+------------------+--------------------+------------------+------------------+-------------------+------------------+------------------+\n",
            "|summary|           Alcohol|        Malic_Acid|               Ash|      Ash_Alcanity|        Magnesium|     Total_Phenols|        Flavanoids|Nonflavanoid_Phenols|   Proanthocyanins|   Color_Intensity|                Hue|             OD280|           Proline|\n",
            "+-------+------------------+------------------+------------------+------------------+-----------------+------------------+------------------+--------------------+------------------+------------------+-------------------+------------------+------------------+\n",
            "|  count|               178|               178|               178|               178|              178|               178|               178|                 178|               178|               178|                178|               178|               178|\n",
            "|   mean|13.000617977528092|2.3363483146067408|2.3665168539325845|19.494943820224716|99.74157303370787| 2.295112359550562|2.0292696629213487|  0.3618539325842696|1.5908988764044945| 5.058089882022472| 0.9574494382022471|2.6116853932584276| 746.8932584269663|\n",
            "| stddev|0.8118265380058592|1.1171460976144625|0.2743440090608147| 3.339563767173507|14.28248351529566|0.6258510488339889|0.9988586850169472|  0.1244533402966794|0.5723588626747611|2.3182858718224124|0.22857156582982352|0.7099904287650503|314.90747427684926|\n",
            "|    min|             11.03|              0.74|              1.36|              10.6|               70|              0.98|              0.34|                0.13|              0.41|              1.28|               0.48|              1.27|               278|\n",
            "|    25%|             12.36|               1.6|              2.21|              17.2|               88|              1.74|               1.2|                0.27|              1.25|              3.21|               0.78|              1.93|               500|\n",
            "|    50%|             13.05|              1.86|              2.36|              19.5|               98|              2.35|              2.13|                0.34|              1.55|              4.68|               0.96|              2.78|               672|\n",
            "|    75%|             13.68|               3.1|              2.56|              21.5|              107|               2.8|              2.88|                0.44|              1.95|               6.2|               1.12|              3.17|               985|\n",
            "|    max|             14.83|               5.8|              3.23|              30.0|              162|              3.88|              5.08|                0.66|              3.58|              13.0|               1.71|               4.0|              1680|\n",
            "+-------+------------------+------------------+------------------+------------------+-----------------+------------------+------------------+--------------------+------------------+------------------+-------------------+------------------+------------------+\n",
            "\n"
          ]
        }
      ]
    },
    {
      "cell_type": "code",
      "source": [
        "from pyspark.ml.feature import VectorAssembler\n",
        "\n",
        "vec_assembler = VectorAssembler(inputCols = df.columns, outputCol='features')\n",
        "\n",
        "vector_df = vec_assembler.transform(df)"
      ],
      "metadata": {
        "id": "rqirtijasFT7"
      },
      "execution_count": null,
      "outputs": []
    },
    {
      "cell_type": "code",
      "source": [
        "from pyspark.ml.stat import Correlation\n",
        "import seaborn as sns\n",
        "import matplotlib.pyplot as plt\n",
        "\n",
        "matrix = Correlation.corr(vector_df, 'features').collect()[0][0]\n",
        "corr_matrix_df = pd.DataFrame(matrix.toArray().tolist())\n",
        "\n",
        "plt.figure(figsize=(16,5))\n",
        "sns.heatmap(corr_matrix_df,\n",
        "            xticklabels=df.columns,\n",
        "            yticklabels=df.columns,  cmap=\"Greens\", annot=True)"
      ],
      "metadata": {
        "colab": {
          "base_uri": "https://localhost:8080/",
          "height": 468
        },
        "id": "DzYh4dVzvXpc",
        "outputId": "8cf8dfea-bd7f-4757-f5d9-c882952e20e7"
      },
      "execution_count": null,
      "outputs": [
        {
          "output_type": "execute_result",
          "data": {
            "text/plain": [
              "<Axes: >"
            ]
          },
          "metadata": {},
          "execution_count": 170
        },
        {
          "output_type": "display_data",
          "data": {
            "text/plain": [
              "<Figure size 1600x500 with 2 Axes>"
            ],
            "image/png": "[encoded data removed]"
          },
          "metadata": {}
        }
      ]
    },
    {
      "cell_type": "code",
      "source": [
        "temp=['Malic_Acid',\n",
        " 'Ash',\n",
        " 'Ash_Alcanity',\n",
        " 'Magnesium',\n",
        " 'Nonflavanoid_Phenols',\n",
        " 'Proanthocyanins',\n",
        " 'OD280',\n",
        " 'Proline']\n",
        "for _ in temp:\n",
        "  df=df.drop(_)"
      ],
      "metadata": {
        "id": "xN6VH_scwMT7"
      },
      "execution_count": null,
      "outputs": []
    },
    {
      "cell_type": "code",
      "source": [
        "df.columns"
      ],
      "metadata": {
        "colab": {
          "base_uri": "https://localhost:8080/"
        },
        "id": "0mB0hPta4q4c",
        "outputId": "8b037825-da22-43cc-b7aa-4f12ecc171cb"
      },
      "execution_count": null,
      "outputs": [
        {
          "output_type": "execute_result",
          "data": {
            "text/plain": [
              "['Alcohol', 'Color_Intensity', 'Hue']"
            ]
          },
          "metadata": {},
          "execution_count": 167
        }
      ]
    },
    {
      "cell_type": "code",
      "source": [
        "vector_df.show(5)"
      ],
      "metadata": {
        "colab": {
          "base_uri": "https://localhost:8080/"
        },
        "id": "tt5evJGUsqIk",
        "outputId": "82fc644c-bbd4-431b-fffc-ef75692b4e81"
      },
      "execution_count": null,
      "outputs": [
        {
          "output_type": "stream",
          "name": "stdout",
          "text": [
            "+-------+----------+----+------------+---------+-------------+----------+--------------------+---------------+---------------+----+-----+-------+\n",
            "|Alcohol|Malic_Acid| Ash|Ash_Alcanity|Magnesium|Total_Phenols|Flavanoids|Nonflavanoid_Phenols|Proanthocyanins|Color_Intensity| Hue|OD280|Proline|\n",
            "+-------+----------+----+------------+---------+-------------+----------+--------------------+---------------+---------------+----+-----+-------+\n",
            "|  14.23|      1.71|2.43|        15.6|      127|          2.8|      3.06|                0.28|           2.29|           5.64|1.04| 3.92|   1065|\n",
            "|   13.2|      1.78|2.14|        11.2|      100|         2.65|      2.76|                0.26|           1.28|           4.38|1.05|  3.4|   1050|\n",
            "|  13.16|      2.36|2.67|        18.6|      101|          2.8|      3.24|                 0.3|           2.81|           5.68|1.03| 3.17|   1185|\n",
            "|  14.37|      1.95| 2.5|        16.8|      113|         3.85|      3.49|                0.24|           2.18|            7.8|0.86| 3.45|   1480|\n",
            "|  13.24|      2.59|2.87|        21.0|      118|          2.8|      2.69|                0.39|           1.82|           4.32|1.04| 2.93|    735|\n",
            "+-------+----------+----+------------+---------+-------------+----------+--------------------+---------------+---------------+----+-----+-------+\n",
            "only showing top 5 rows\n",
            "\n"
          ]
        }
      ]
    },
    {
      "cell_type": "code",
      "source": [
        "from pyspark.ml.feature import StandardScaler\n",
        "\n",
        "scaler = StandardScaler(inputCol=\"features\",\n",
        "                        outputCol=\"scaledFeatures\",\n",
        "                        withStd=True,\n",
        "                        withMean=False)\n",
        "\n",
        "scalerModel = scaler.fit(vector_df)\n",
        "\n",
        "final_df = scalerModel.transform(vector_df)"
      ],
      "metadata": {
        "id": "5NTF1jmIsrnt"
      },
      "execution_count": null,
      "outputs": []
    },
    {
      "cell_type": "code",
      "source": [
        "final_df.select('scaledFeatures').show(5)"
      ],
      "metadata": {
        "colab": {
          "base_uri": "https://localhost:8080/"
        },
        "id": "CRJYzc04tEi-",
        "outputId": "671f5909-c252-432e-c04d-04c4c5bde1d9"
      },
      "execution_count": null,
      "outputs": [
        {
          "output_type": "stream",
          "name": "stdout",
          "text": [
            "+--------------------+\n",
            "|      scaledFeatures|\n",
            "+--------------------+\n",
            "|[17.5283750084766...|\n",
            "|[16.2596310690015...|\n",
            "|[16.2103594597015...|\n",
            "|[17.7008256410266...|\n",
            "|[16.3089026783015...|\n",
            "+--------------------+\n",
            "only showing top 5 rows\n",
            "\n"
          ]
        }
      ]
    },
    {
      "cell_type": "code",
      "source": [
        "from pyspark.ml.clustering import KMeans\n",
        "from pyspark.ml.evaluation import ClusteringEvaluator\n",
        "\n",
        "silhouette_score=[]\n",
        "\n",
        "evaluator = ClusteringEvaluator(predictionCol='prediction',\n",
        "\t\t\t\t\t\t\t\tfeaturesCol='scaledFeatures', \\\n",
        "\t\t\t\t\t\t\t\tmetricName='silhouette',\n",
        "\t\t\t\t\t\t\t\tdistanceMeasure='squaredEuclidean')\n",
        "\n",
        "for _ in range(2,10):\n",
        "\tkmeans=KMeans(featuresCol='scaledFeatures', k=_)\n",
        "\tmodel=kmeans.fit(final_df)\n",
        "\tpredictions=model.transform(final_df)\n",
        "\tscore=evaluator.evaluate(predictions)\n",
        "\tsilhouette_score.append(score)\n",
        "\tprint('Silhouette Score for k =', _, 'is', score)"
      ],
      "metadata": {
        "colab": {
          "base_uri": "https://localhost:8080/"
        },
        "id": "lpbr5FZWtG2_",
        "outputId": "4d9fa842-eef5-403d-e98d-345b052d8cbd"
      },
      "execution_count": null,
      "outputs": [
        {
          "output_type": "stream",
          "name": "stdout",
          "text": [
            "Silhouette Score for k = 2 is 0.5120543195767812\n",
            "Silhouette Score for k = 3 is 0.5841530765077722\n",
            "Silhouette Score for k = 4 is 0.5597174522487752\n",
            "Silhouette Score for k = 5 is 0.5445525163651159\n",
            "Silhouette Score for k = 6 is 0.5075326814380295\n",
            "Silhouette Score for k = 7 is 0.4790413399401191\n",
            "Silhouette Score for k = 8 is 0.4350226256708012\n",
            "Silhouette Score for k = 9 is 0.4722246595344717\n"
          ]
        }
      ]
    },
    {
      "cell_type": "code",
      "source": [
        "#Visualizing the silhouette scores in a plot\n",
        "import matplotlib.pyplot as plt\n",
        "\n",
        "plt.plot(range(2,10), silhouette_score)\n",
        "plt.xlabel('k')\n",
        "plt.ylabel('silhouette score')\n",
        "plt.title('Silhouette Score')\n",
        "plt.show()"
      ],
      "metadata": {
        "colab": {
          "base_uri": "https://localhost:8080/",
          "height": 472
        },
        "id": "vwrLBXoEtfU-",
        "outputId": "f7bd5fa4-4125-461d-e8e1-55e951f72c05"
      },
      "execution_count": null,
      "outputs": [
        {
          "output_type": "display_data",
          "data": {
            "text/plain": [
              "<Figure size 640x480 with 1 Axes>"
            ],
            "image/png": "[encoded data removed]"
          },
          "metadata": {}
        }
      ]
    },
    {
      "cell_type": "code",
      "source": [
        "# Trains a k-means model.\n",
        "kmeans = KMeans(featuresCol='scaledFeatures',k=3)\n",
        "model = kmeans.fit(final_df)\n",
        "predictions = model.transform(final_df)"
      ],
      "metadata": {
        "id": "krIjC87Etkdp"
      },
      "execution_count": null,
      "outputs": []
    },
    {
      "cell_type": "code",
      "source": [
        "predictions.show(5)"
      ],
      "metadata": {
        "colab": {
          "base_uri": "https://localhost:8080/"
        },
        "id": "chRDa7H3zskG",
        "outputId": "f0e33157-209e-47e3-d839-5914826e84a2"
      },
      "execution_count": null,
      "outputs": [
        {
          "output_type": "stream",
          "name": "stdout",
          "text": [
            "+-------+---------------+----+-----------------+--------------------+----------+\n",
            "|Alcohol|Color_Intensity| Hue|         features|      scaledFeatures|prediction|\n",
            "+-------+---------------+----+-----------------+--------------------+----------+\n",
            "|  14.23|           5.64|1.04|[14.23,5.64,1.04]|[17.5283750084766...|         0|\n",
            "|   13.2|           4.38|1.05| [13.2,4.38,1.05]|[16.2596310690015...|         0|\n",
            "|  13.16|           5.68|1.03|[13.16,5.68,1.03]|[16.2103594597015...|         0|\n",
            "|  14.37|            7.8|0.86| [14.37,7.8,0.86]|[17.7008256410266...|         0|\n",
            "|  13.24|           4.32|1.04|[13.24,4.32,1.04]|[16.3089026783015...|         0|\n",
            "+-------+---------------+----+-----------------+--------------------+----------+\n",
            "only showing top 5 rows\n",
            "\n"
          ]
        }
      ]
    },
    {
      "cell_type": "code",
      "source": [
        "from pyspark.ml.feature import PCA as PCAml\n",
        "pca = PCAml(k=2, inputCol=\"features\", outputCol=\"pca\")\n",
        "pca_model = pca.fit(final_df)\n",
        "pca_transformed = pca_model.transform(final_df)"
      ],
      "metadata": {
        "id": "yd0iD1ayuRmn"
      },
      "execution_count": null,
      "outputs": []
    },
    {
      "cell_type": "code",
      "source": [
        "pca_transformed.show(5)"
      ],
      "metadata": {
        "colab": {
          "base_uri": "https://localhost:8080/"
        },
        "id": "8KYa1RHk0uY4",
        "outputId": "88bed254-2290-44c9-9288-ec33d2154029"
      },
      "execution_count": null,
      "outputs": [
        {
          "output_type": "stream",
          "name": "stdout",
          "text": [
            "+-------+---------------+----+-----------------+--------------------+--------------------+\n",
            "|Alcohol|Color_Intensity| Hue|         features|      scaledFeatures|                 pca|\n",
            "+-------+---------------+----+-----------------+--------------------+--------------------+\n",
            "|  14.23|           5.64|1.04|[14.23,5.64,1.04]|[17.5283750084766...|[-8.3600934945842...|\n",
            "|   13.2|           4.38|1.05| [13.2,4.38,1.05]|[16.2596310690015...|[-6.9178940842410...|\n",
            "|  13.16|           5.68|1.03|[13.16,5.68,1.03]|[16.2103594597015...|[-8.1819164941621...|\n",
            "|  14.37|            7.8|0.86| [14.37,7.8,0.86]|[17.7008256410266...|[-10.509558978399...|\n",
            "|  13.24|           4.32|1.04|[13.24,4.32,1.04]|[16.3089026783015...|[-6.8678576753233...|\n",
            "+-------+---------------+----+-----------------+--------------------+--------------------+\n",
            "only showing top 5 rows\n",
            "\n"
          ]
        }
      ]
    },
    {
      "cell_type": "code",
      "source": [
        "x_pca = np.array(pca_transformed.rdd.map(lambda row: row.pca).collect())"
      ],
      "metadata": {
        "id": "n0-DBR1RucP8"
      },
      "execution_count": null,
      "outputs": []
    },
    {
      "cell_type": "code",
      "source": [
        "cluster_assignment = np.array(predictions.rdd.map(lambda row: row.prediction).collect()).reshape(-1,1)"
      ],
      "metadata": {
        "id": "0oaSXG_HuiYM"
      },
      "execution_count": null,
      "outputs": []
    },
    {
      "cell_type": "code",
      "source": [
        "import seaborn as sns\n",
        "import matplotlib.pyplot as plt\n",
        "\n",
        "pca_data = np.hstack((x_pca,cluster_assignment))\n",
        "\n",
        "pca_df = pd.DataFrame(data=pca_data, columns=(\"x\", \"y\",\"Clusters\"))\n",
        "sns.FacetGrid(pca_df,hue=\"Clusters\", height=6).map(plt.scatter, 'x', 'y' ).add_legend()\n",
        "\n",
        "plt.show()"
      ],
      "metadata": {
        "colab": {
          "base_uri": "https://localhost:8080/",
          "height": 607
        },
        "id": "_5GA1BEEtvO-",
        "outputId": "b715d87f-02ef-4a6e-8356-204bbfd7dcc6"
      },
      "execution_count": null,
      "outputs": [
        {
          "output_type": "display_data",
          "data": {
            "text/plain": [
              "<Figure size 672x600 with 1 Axes>"
            ],
            "image/png": "[encoded data removed]"
          },
          "metadata": {}
        }
      ]
    },
    {
      "cell_type": "code",
      "source": [
        "import os\n",
        "import sys\n",
        "import re\n",
        "import random\n",
        "import types\n",
        "import math\n",
        "\n",
        "from pprint import pprint\n",
        "from pyspark import SparkContext\n",
        "from pyspark.sql import SQLContext\n",
        "from pyspark.sql.types import *\n",
        "from pyspark.sql import SparkSession\n",
        "from pyspark.sql import Row\n",
        "from pyspark.sql.functions import *\n",
        "\n",
        "from pyspark.ml.feature import PCA\n",
        "from pyspark.ml.linalg import Vectors\n",
        "from pyspark.ml.feature import VectorAssembler\n",
        "\n",
        "from mpl_toolkits.mplot3d import Axes3D\n",
        "from mpl_toolkits.mplot3d import proj3d\n",
        "\n",
        "%matplotlib inline\n",
        "import matplotlib.pyplot as plt\n",
        "from matplotlib.patches import Ellipse\n",
        "import pandas as pd\n",
        "import numpy as np\n",
        "from time import time\n",
        "spark = SparkSession.builder.getOrCreate()\n",
        "sc = spark.sparkContext"
      ],
      "metadata": {
        "id": "cfcm65y-YAFe"
      },
      "execution_count": null,
      "outputs": []
    },
    {
      "cell_type": "code",
      "source": [
        "!unzip /content/drive/MyDrive/csv_files.zip"
      ],
      "metadata": {
        "colab": {
          "base_uri": "https://localhost:8080/"
        },
        "id": "-QQeSC69bgMb",
        "outputId": "c4567575-4ab6-4731-f775-818a1c040476"
      },
      "execution_count": null,
      "outputs": [
        {
          "output_type": "stream",
          "name": "stdout",
          "text": [
            "Archive:  /content/drive/MyDrive/csv_files.zip\n",
            "replace artists.csv? [y]es, [n]o, [A]ll, [N]one, [r]ename: N\n"
          ]
        }
      ]
    },
    {
      "cell_type": "code",
      "source": [
        "sqlContext = SQLContext(sc)\n",
        "base = \"/content/\""
      ],
      "metadata": {
        "colab": {
          "base_uri": "https://localhost:8080/"
        },
        "id": "amJmTsRdYxZQ",
        "outputId": "0e0ec247-72fc-470a-fe4f-4f45c44de70d"
      },
      "execution_count": null,
      "outputs": [
        {
          "output_type": "stream",
          "name": "stderr",
          "text": [
            "/usr/local/lib/python3.10/dist-packages/pyspark/sql/context.py:112: FutureWarning: Deprecated in 3.0.0. Use SparkSession.builder.getOrCreate() instead.\n",
            "  warnings.warn(\n"
          ]
        }
      ]
    },
    {
      "cell_type": "code",
      "source": [
        "userArtistDataSchema = StructType([ \\\n",
        "    StructField(\"userID\", LongType(), True), \\\n",
        "    StructField(\"artistID\", LongType(), True), \\\n",
        "    StructField(\"playCount\", IntegerType(), True)])\n",
        "\n",
        "userArtistDF = sqlContext.read \\\n",
        "    .format('com.databricks.spark.csv') \\\n",
        "    .options(header='true') \\\n",
        "    .load(base + \"user_artist.csv\", schema = userArtistDataSchema)\n",
        "\n",
        "# we can cache an Dataframe to avoid computing it from the beginning everytime it is accessed.\n",
        "userArtistDF.cache()\n",
        "userArtistDF.show(20)"
      ],
      "metadata": {
        "colab": {
          "base_uri": "https://localhost:8080/"
        },
        "id": "h1JmwrRhhdlH",
        "outputId": "b3040302-edaf-4f6b-aa68-0810899497ac"
      },
      "execution_count": null,
      "outputs": [
        {
          "output_type": "stream",
          "name": "stdout",
          "text": [
            "+------+--------+---------+\n",
            "|userID|artistID|playCount|\n",
            "+------+--------+---------+\n",
            "|     1|       1|     1254|\n",
            "|     1|       2|      452|\n",
            "|     1|       3|      411|\n",
            "|     1|       4|      394|\n",
            "|     1|       5|      340|\n",
            "|     1|       6|      339|\n",
            "|     1|       7|      331|\n",
            "|     1|       8|      265|\n",
            "|     1|       9|      248|\n",
            "|     1|      10|      223|\n",
            "|     1|      11|      194|\n",
            "|     1|      12|      188|\n",
            "|     1|      13|      185|\n",
            "|     1|      14|      183|\n",
            "|     1|      15|      180|\n",
            "|     1|      16|      159|\n",
            "|     1|      17|      152|\n",
            "|     1|      18|      151|\n",
            "|     1|      19|      150|\n",
            "|     1|      20|      149|\n",
            "+------+--------+---------+\n",
            "only showing top 20 rows\n",
            "\n"
          ]
        }
      ]
    },
    {
      "cell_type": "code",
      "source": [
        "distinctUsers = userArtistDF.select('userID').distinct().count()\n",
        "duplicateUsers = userArtistDF.select('userID').count()\n",
        "print(\"Total n. of valid records for users: \", duplicateUsers)\n",
        "print(\"Total n. of distinct users:          \", distinctUsers)"
      ],
      "metadata": {
        "colab": {
          "base_uri": "https://localhost:8080/"
        },
        "id": "X2tQUL7qhc6b",
        "outputId": "91c86041-5cf6-4165-cde6-89ddd7172868"
      },
      "execution_count": null,
      "outputs": [
        {
          "output_type": "stream",
          "name": "stdout",
          "text": [
            "Total n. of valid records for users:  106716\n",
            "Total n. of distinct users:           1223\n"
          ]
        }
      ]
    },
    {
      "cell_type": "code",
      "source": [
        "df = spark.createDataFrame(pd.read_csv('/content/user_artist.csv'))"
      ],
      "metadata": {
        "id": "vRodRd4jmFi3"
      },
      "execution_count": null,
      "outputs": []
    },
    {
      "cell_type": "code",
      "source": [
        "artists = spark.createDataFrame(pd.read_csv('/content/artists.csv',\n",
        "                                       encoding='latin-1')\\\n",
        "                                       [['artist_id', 'name']])"
      ],
      "metadata": {
        "id": "_KBSg4AwwWy7"
      },
      "execution_count": null,
      "outputs": []
    },
    {
      "cell_type": "code",
      "source": [
        "artists.show(5)"
      ],
      "metadata": {
        "colab": {
          "base_uri": "https://localhost:8080/"
        },
        "id": "7V07ou2Q3y_o",
        "outputId": "eab197bd-9ef0-4b8c-dd68-f7c6af274ec3"
      },
      "execution_count": null,
      "outputs": [
        {
          "output_type": "stream",
          "name": "stdout",
          "text": [
            "+---------+-----------------+\n",
            "|artist_id|             name|\n",
            "+---------+-----------------+\n",
            "|        1|       Andy Shauf|\n",
            "|        2|         Lykke Li|\n",
            "|        3|The Rubberbandits|\n",
            "|        4|      Angel Olsen|\n",
            "|        5|    Elliott Smith|\n",
            "+---------+-----------------+\n",
            "only showing top 5 rows\n",
            "\n"
          ]
        }
      ]
    },
    {
      "cell_type": "code",
      "source": [
        "from pyspark.ml.recommendation import ALS\n",
        "\n",
        "(training, test) = df.randomSplit([.8, .2])\n",
        "\n",
        "als = ALS(maxIter=5, rank=4, regParam=0.01, userCol='user_id',\n",
        "          itemCol='artist_id', ratingCol='playcount', coldStartStrategy='drop')\n",
        "\n",
        "model=als.fit(training)"
      ],
      "metadata": {
        "id": "ofPPq0qJprsn"
      },
      "execution_count": null,
      "outputs": []
    },
    {
      "cell_type": "code",
      "source": [
        "from pyspark.ml.evaluation import RegressionEvaluator\n",
        "predictions = model.transform(test)\n",
        "evaluator = RegressionEvaluator(metricName='rmse', labelCol='playcount', predictionCol='prediction')\n",
        "rmse = evaluator.evaluate(predictions)\n",
        "print(rmse)"
      ],
      "metadata": {
        "colab": {
          "base_uri": "https://localhost:8080/"
        },
        "id": "dMp3qxNBt39c",
        "outputId": "af96e430-6218-4ade-f15a-0f3e32ed3e57"
      },
      "execution_count": null,
      "outputs": [
        {
          "output_type": "stream",
          "name": "stdout",
          "text": [
            "346.696801427737\n"
          ]
        }
      ]
    },
    {
      "cell_type": "code",
      "source": [
        "predictions.show(10)"
      ],
      "metadata": {
        "colab": {
          "base_uri": "https://localhost:8080/"
        },
        "id": "4MgwM5k6uM2b",
        "outputId": "14314359-2b73-4b96-d5e4-b55778611722"
      },
      "execution_count": null,
      "outputs": [
        {
          "output_type": "stream",
          "name": "stdout",
          "text": [
            "+-------+---------+---------+----------+\n",
            "|user_id|artist_id|playcount|prediction|\n",
            "+-------+---------+---------+----------+\n",
            "|    243|     6658|       21| 1.0907149|\n",
            "|    623|     2366|        8| 12.783647|\n",
            "|    858|      496|       59| 6.9864845|\n",
            "|    255|      496|       43| 123.68954|\n",
            "|   1005|     1238|      244|  690.0542|\n",
            "|     34|     1580|       36| 29.716408|\n",
            "|    211|     1645|       50|  16.82492|\n",
            "|    842|     8592|        4|-1.5934348|\n",
            "|     27|     1088|       11|104.441734|\n",
            "|    984|     1342|      294|  316.3343|\n",
            "+-------+---------+---------+----------+\n",
            "only showing top 10 rows\n",
            "\n"
          ]
        }
      ]
    },
    {
      "cell_type": "code",
      "source": [
        "df.filter(df.user_id == 918).show(5)"
      ],
      "metadata": {
        "colab": {
          "base_uri": "https://localhost:8080/"
        },
        "id": "Ua3r897sxKIK",
        "outputId": "fc6bb795-1885-451d-96b5-21d657de0dee"
      },
      "execution_count": null,
      "outputs": [
        {
          "output_type": "stream",
          "name": "stdout",
          "text": [
            "+-------+---------+---------+\n",
            "|user_id|artist_id|playcount|\n",
            "+-------+---------+---------+\n",
            "|    918|       18|      101|\n",
            "|    918|       63|      184|\n",
            "|    918|       93|       42|\n",
            "|    918|       94|      159|\n",
            "|    918|       97|       26|\n",
            "+-------+---------+---------+\n",
            "only showing top 5 rows\n",
            "\n"
          ]
        }
      ]
    },
    {
      "cell_type": "code",
      "source": [
        "def current_likes(ua, ub, user_id, limit):\n",
        "  temp = ua.join(ub,ua.artist_id==ub.artist_id)\\\n",
        "  .filter(ua.user_id == user_id)\\\n",
        "  .sort(ua.playcount.desc())\\\n",
        "  .select(ua.user_id, ua.playcount, ub.name)\\\n",
        "  .limit(limit)\n",
        "  return temp\n",
        "\n",
        "\n",
        "current_likes(df, artists, 2, 10).show(truncate=False)"
      ],
      "metadata": {
        "colab": {
          "base_uri": "https://localhost:8080/"
        },
        "id": "1JhS1qWrwJAC",
        "outputId": "7a487162-caaa-4cdb-c12b-2effb09d42f6"
      },
      "execution_count": null,
      "outputs": [
        {
          "output_type": "stream",
          "name": "stdout",
          "text": [
            "+-------+---------+-------------------+\n",
            "|user_id|playcount|name               |\n",
            "+-------+---------+-------------------+\n",
            "|2      |685      |Kanye West         |\n",
            "|2      |321      |The Magnetic Fields|\n",
            "|2      |292      |Vincent Gallo      |\n",
            "|2      |210      |Bruce Springsteen  |\n",
            "|2      |200      |Eels               |\n",
            "|2      |186      |Vampire Weekend    |\n",
            "|2      |183      |The Smiths         |\n",
            "|2      |173      |Elliott Smith      |\n",
            "|2      |165      |The Mountain Goats |\n",
            "|2      |146      |Randy Newman       |\n",
            "+-------+---------+-------------------+\n",
            "\n"
          ]
        }
      ]
    },
    {
      "cell_type": "code",
      "source": [
        "def recommendedArtists(ub, userId,limit):\n",
        "  test =  model.recommendForAllUsers(limit).filter(col('user_id')==userId).select(\"recommendations\").collect()\n",
        "  topArtists = []\n",
        "  for item in test[0][0]:\n",
        "    topArtists.append(item.artist_id)\n",
        "    schema = StructType([StructField(\"artist_id\",IntegerType(),True)])\n",
        "    artists = spark.createDataFrame(topArtists,IntegerType())\n",
        "    final=artists.join(ub,artists.value==ub.artist_id).select(ub.artist_id,ub.name)\n",
        "  return final\n",
        "# display top 10 recommended artists for user 2062243\n",
        "recommendedArtists(artists, 2, 10).show(truncate=False)"
      ],
      "metadata": {
        "colab": {
          "base_uri": "https://localhost:8080/"
        },
        "id": "9u0nFd3ovkGp",
        "outputId": "b7a4a730-fc90-404c-adbb-f511a083e7d9"
      },
      "execution_count": null,
      "outputs": [
        {
          "output_type": "stream",
          "name": "stdout",
          "text": [
            "+---------+--------------------+\n",
            "|artist_id|name                |\n",
            "+---------+--------------------+\n",
            "|14111    |Sleepy Eyes Of Death|\n",
            "|2825     |Three Days Grace    |\n",
            "|22355    |T.M.Revolution      |\n",
            "|6608     |Amber Run           |\n",
            "|15447    |Roald Dahl          |\n",
            "|20708    |Josh Record         |\n",
            "|21532    |The Plums           |\n",
            "|1386     |Stephen King        |\n",
            "|3722     |Daniel Johnston     |\n",
            "|10040    |Romina Falconi      |\n",
            "+---------+--------------------+\n",
            "\n"
          ]
        }
      ]
    },
    {
      "cell_type": "code",
      "source": [],
      "metadata": {
        "id": "OMZVMS0-0mNc"
      },
      "execution_count": null,
      "outputs": []
    },
    {
      "cell_type": "code",
      "source": [
        "import numpy as np\n",
        "from scipy.sparse import csc_matrix\n",
        "from scipy.sparse import csr_matrix"
      ],
      "metadata": {
        "id": "-LptOO827xWC"
      },
      "execution_count": null,
      "outputs": []
    },
    {
      "cell_type": "code",
      "source": [
        "a = csr_matrix((1000000, 1000000), dtype = np.int8)"
      ],
      "metadata": {
        "id": "1LVS-grc-Fda"
      },
      "execution_count": null,
      "outputs": []
    },
    {
      "cell_type": "code",
      "source": [
        "b = csc_matrix((1000000, 1000000), dtype = np.int8)"
      ],
      "metadata": {
        "id": "B39od3oQ-crW"
      },
      "execution_count": null,
      "outputs": []
    },
    {
      "cell_type": "code",
      "source": [
        "c = csr_matrix((1000000, 1), dtype = np.int8)"
      ],
      "metadata": {
        "id": "9zUiHMQkC-bU"
      },
      "execution_count": null,
      "outputs": []
    },
    {
      "cell_type": "code",
      "source": [
        "d = csr_matrix((1000000, 1), dtype = np.int8)"
      ],
      "metadata": {
        "id": "kXd-ARS_DJJm"
      },
      "execution_count": null,
      "outputs": []
    },
    {
      "cell_type": "code",
      "source": [
        "%%timeit\n",
        "a.multiply(a)"
      ],
      "metadata": {
        "colab": {
          "base_uri": "https://localhost:8080/"
        },
        "id": "zuDzUTFB7-IF",
        "outputId": "455fd5fe-7567-4a6d-a253-244b53776774"
      },
      "execution_count": null,
      "outputs": [
        {
          "output_type": "stream",
          "name": "stdout",
          "text": [
            "6.71 ms ± 945 µs per loop (mean ± std. dev. of 7 runs, 100 loops each)\n"
          ]
        }
      ]
    },
    {
      "cell_type": "code",
      "source": [
        "%%timeit\n",
        "b.multiply(b)"
      ],
      "metadata": {
        "colab": {
          "base_uri": "https://localhost:8080/"
        },
        "id": "5PS902VvCaG1",
        "outputId": "17835b72-743c-4a54-e955-916b06b591cb"
      },
      "execution_count": null,
      "outputs": [
        {
          "output_type": "stream",
          "name": "stdout",
          "text": [
            "7.06 ms ± 2.79 ms per loop (mean ± std. dev. of 7 runs, 100 loops each)\n"
          ]
        }
      ]
    },
    {
      "cell_type": "code",
      "source": [
        "%%timeit\n",
        "a.multiply(b)"
      ],
      "metadata": {
        "colab": {
          "base_uri": "https://localhost:8080/"
        },
        "id": "2IONeH5s_Jeu",
        "outputId": "d58fb65f-b4d5-4c69-d05d-6bed4c5e7ae6"
      },
      "execution_count": null,
      "outputs": [
        {
          "output_type": "stream",
          "name": "stdout",
          "text": [
            "17.7 ms ± 6.28 ms per loop (mean ± std. dev. of 7 runs, 10 loops each)\n"
          ]
        }
      ]
    },
    {
      "cell_type": "code",
      "source": [
        "%%timeit\n",
        "b.multiply(a)"
      ],
      "metadata": {
        "colab": {
          "base_uri": "https://localhost:8080/"
        },
        "id": "cGl_PfMFCieh",
        "outputId": "965bbd1b-6db1-4f1b-c4ac-e1a3b630aee8"
      },
      "execution_count": null,
      "outputs": [
        {
          "output_type": "stream",
          "name": "stdout",
          "text": [
            "13.4 ms ± 3.06 ms per loop (mean ± std. dev. of 7 runs, 100 loops each)\n"
          ]
        }
      ]
    },
    {
      "cell_type": "code",
      "source": [
        "%%timeit\n",
        "a.dot(c)"
      ],
      "metadata": {
        "colab": {
          "base_uri": "https://localhost:8080/"
        },
        "id": "ocjCBT0XC8EW",
        "outputId": "88af8fa4-4833-4609-91a4-a63697af1341"
      },
      "execution_count": null,
      "outputs": [
        {
          "output_type": "stream",
          "name": "stdout",
          "text": [
            "3.57 ms ± 98.4 µs per loop (mean ± std. dev. of 7 runs, 100 loops each)\n"
          ]
        }
      ]
    },
    {
      "cell_type": "code",
      "source": [
        "%%timeit\n",
        "a.dot(d)"
      ],
      "metadata": {
        "colab": {
          "base_uri": "https://localhost:8080/"
        },
        "id": "XJdHjYCXDCvh",
        "outputId": "f9e390ed-40dc-49b1-ff55-0a78e644c570"
      },
      "execution_count": null,
      "outputs": [
        {
          "output_type": "stream",
          "name": "stdout",
          "text": [
            "3.57 ms ± 66.7 µs per loop (mean ± std. dev. of 7 runs, 100 loops each)\n"
          ]
        }
      ]
    },
    {
      "cell_type": "code",
      "source": [
        "%%timeit\n",
        "b.dot(c)"
      ],
      "metadata": {
        "colab": {
          "base_uri": "https://localhost:8080/"
        },
        "id": "zkNA79xGDQBD",
        "outputId": "2d12d865-3811-48fc-96ee-be9f3686c3cd"
      },
      "execution_count": null,
      "outputs": [
        {
          "output_type": "stream",
          "name": "stdout",
          "text": [
            "1.95 ms ± 395 µs per loop (mean ± std. dev. of 7 runs, 1000 loops each)\n"
          ]
        }
      ]
    },
    {
      "cell_type": "code",
      "source": [
        "%%timeit\n",
        "b.dot(d)"
      ],
      "metadata": {
        "colab": {
          "base_uri": "https://localhost:8080/"
        },
        "id": "cDBZbduhDR7g",
        "outputId": "dc4314e4-3597-4ab8-ba86-b53b2507d0cb"
      },
      "execution_count": null,
      "outputs": [
        {
          "output_type": "stream",
          "name": "stdout",
          "text": [
            "2.9 ms ± 339 µs per loop (mean ± std. dev. of 7 runs, 100 loops each)\n"
          ]
        }
      ]
    },
    {
      "cell_type": "code",
      "source": [
        "%whos\n",
        "a"
      ],
      "metadata": {
        "colab": {
          "base_uri": "https://localhost:8080/"
        },
        "id": "WAIZKLEdD7nF",
        "outputId": "9ac93e1e-aed3-489b-df09-8327de95bb79"
      },
      "execution_count": null,
      "outputs": [
        {
          "output_type": "stream",
          "name": "stdout",
          "text": [
            "Variable     Type          Data/Info\n",
            "------------------------------------\n",
            "a            csr_matrix    \n",
            "b            csc_matrix    \n",
            "c            csr_matrix    \n",
            "csc_matrix   type          <class 'scipy.sparse._csc.csc_matrix'>\n",
            "csr_matrix   type          <class 'scipy.sparse._csr.csr_matrix'>\n",
            "d            csr_matrix    \n",
            "np           module        <module 'numpy' from '/us<...>kages/numpy/__init__.py'>\n"
          ]
        },
        {
          "output_type": "execute_result",
          "data": {
            "text/plain": [
              "<1000000x1000000 sparse matrix of type '<class 'numpy.int8'>'\n",
              "\twith 0 stored elements in Compressed Sparse Row format>"
            ]
          },
          "metadata": {},
          "execution_count": 70
        }
      ]
    },
    {
      "cell_type": "code",
      "source": [
        "import sys\n",
        "print(f'a: {sys.getsizeof(a)}\\nb: {sys.getsizeof(b)}\\n'\n",
        "      f'c: {sys.getsizeof(c)}\\nd: {sys.getsizeof(d)}\\n')"
      ],
      "metadata": {
        "colab": {
          "base_uri": "https://localhost:8080/"
        },
        "id": "cvF-KcJuHkdc",
        "outputId": "895a39b8-3987-49b0-ef51-b4df92d4abcd"
      },
      "execution_count": null,
      "outputs": [
        {
          "output_type": "stream",
          "name": "stdout",
          "text": [
            "a: 48\n",
            "b: 48\n",
            "c: 48\n",
            "d: 48\n",
            "\n"
          ]
        }
      ]
    },
    {
      "cell_type": "code",
      "source": [
        "sys.getsizeof(b.multiply(a))"
      ],
      "metadata": {
        "colab": {
          "base_uri": "https://localhost:8080/"
        },
        "id": "ymvcJ-pDHt7k",
        "outputId": "87b99e0c-567e-42f4-cc48-ca778917827d"
      },
      "execution_count": null,
      "outputs": [
        {
          "output_type": "execute_result",
          "data": {
            "text/plain": [
              "48"
            ]
          },
          "metadata": {},
          "execution_count": 74
        }
      ]
    },
    {
      "cell_type": "code",
      "source": [
        "\n",
        "import psutil\n",
        "print('RAM memory % used:', psutil.virtual_memory()[2])\n",
        "print('RAM Used (GB):', psutil.virtual_memory()[3]/1000000000)"
      ],
      "metadata": {
        "colab": {
          "base_uri": "https://localhost:8080/"
        },
        "id": "XkO6HUCpHwZx",
        "outputId": "91dcd206-906f-4edb-cdf8-2d5554cebeea"
      },
      "execution_count": null,
      "outputs": [
        {
          "output_type": "stream",
          "name": "stdout",
          "text": [
            "RAM memory % used: 16.0\n",
            "RAM Used (GB): 1.820151808\n"
          ]
        }
      ]
    }
  ]
}